{
 "cells": [
  {
   "cell_type": "code",
   "execution_count": 1,
   "id": "bbc9183c",
   "metadata": {},
   "outputs": [],
   "source": [
    "import pandas as pd\n",
    "import numpy as np\n",
    "from sklearn.model_selection import train_test_split, GridSearchCV\n",
    "from sklearn.ensemble import RandomForestRegressor\n",
    "from sklearn.metrics import mean_squared_error\n",
    "import matplotlib.pyplot as plt"
   ]
  },
  {
   "cell_type": "code",
   "execution_count": 2,
   "id": "9c2a5df7",
   "metadata": {},
   "outputs": [],
   "source": [
    "historical_weather = pd.read_csv('historical_weather.csv')\n",
    "submission_key = pd.read_csv('submission_key.csv')"
   ]
  },
  {
   "cell_type": "code",
   "execution_count": 3,
   "id": "18da5bbd",
   "metadata": {},
   "outputs": [
    {
     "data": {
      "text/html": [
       "<div>\n",
       "<style scoped>\n",
       "    .dataframe tbody tr th:only-of-type {\n",
       "        vertical-align: middle;\n",
       "    }\n",
       "\n",
       "    .dataframe tbody tr th {\n",
       "        vertical-align: top;\n",
       "    }\n",
       "\n",
       "    .dataframe thead th {\n",
       "        text-align: right;\n",
       "    }\n",
       "</style>\n",
       "<table border=\"1\" class=\"dataframe\">\n",
       "  <thead>\n",
       "    <tr style=\"text-align: right;\">\n",
       "      <th></th>\n",
       "      <th>city_id</th>\n",
       "      <th>date</th>\n",
       "      <th>avg_temp_c</th>\n",
       "      <th>min_temp_c</th>\n",
       "      <th>max_temp_c</th>\n",
       "      <th>precipitation_mm</th>\n",
       "      <th>snow_depth_mm</th>\n",
       "      <th>avg_wind_dir_deg</th>\n",
       "      <th>avg_wind_speed_kmh</th>\n",
       "    </tr>\n",
       "  </thead>\n",
       "  <tbody>\n",
       "    <tr>\n",
       "      <th>0</th>\n",
       "      <td>C001</td>\n",
       "      <td>1/1/2014</td>\n",
       "      <td>6.6</td>\n",
       "      <td>-1.4</td>\n",
       "      <td>11.6</td>\n",
       "      <td>NaN</td>\n",
       "      <td>NaN</td>\n",
       "      <td>168.0</td>\n",
       "      <td>6.2</td>\n",
       "    </tr>\n",
       "    <tr>\n",
       "      <th>1</th>\n",
       "      <td>C001</td>\n",
       "      <td>1/2/2014</td>\n",
       "      <td>9.3</td>\n",
       "      <td>6.3</td>\n",
       "      <td>13.3</td>\n",
       "      <td>NaN</td>\n",
       "      <td>NaN</td>\n",
       "      <td>155.0</td>\n",
       "      <td>10.0</td>\n",
       "    </tr>\n",
       "    <tr>\n",
       "      <th>2</th>\n",
       "      <td>C001</td>\n",
       "      <td>1/3/2014</td>\n",
       "      <td>7.6</td>\n",
       "      <td>1.9</td>\n",
       "      <td>14.0</td>\n",
       "      <td>NaN</td>\n",
       "      <td>NaN</td>\n",
       "      <td>NaN</td>\n",
       "      <td>5.8</td>\n",
       "    </tr>\n",
       "    <tr>\n",
       "      <th>3</th>\n",
       "      <td>C001</td>\n",
       "      <td>1/4/2014</td>\n",
       "      <td>7.6</td>\n",
       "      <td>3.9</td>\n",
       "      <td>13.3</td>\n",
       "      <td>NaN</td>\n",
       "      <td>NaN</td>\n",
       "      <td>291.0</td>\n",
       "      <td>11.3</td>\n",
       "    </tr>\n",
       "    <tr>\n",
       "      <th>4</th>\n",
       "      <td>C001</td>\n",
       "      <td>1/5/2014</td>\n",
       "      <td>8.6</td>\n",
       "      <td>0.5</td>\n",
       "      <td>16.9</td>\n",
       "      <td>NaN</td>\n",
       "      <td>NaN</td>\n",
       "      <td>NaN</td>\n",
       "      <td>5.0</td>\n",
       "    </tr>\n",
       "  </tbody>\n",
       "</table>\n",
       "</div>"
      ],
      "text/plain": [
       "  city_id      date  avg_temp_c  min_temp_c  max_temp_c  precipitation_mm  \\\n",
       "0    C001  1/1/2014         6.6        -1.4        11.6               NaN   \n",
       "1    C001  1/2/2014         9.3         6.3        13.3               NaN   \n",
       "2    C001  1/3/2014         7.6         1.9        14.0               NaN   \n",
       "3    C001  1/4/2014         7.6         3.9        13.3               NaN   \n",
       "4    C001  1/5/2014         8.6         0.5        16.9               NaN   \n",
       "\n",
       "   snow_depth_mm  avg_wind_dir_deg  avg_wind_speed_kmh  \n",
       "0            NaN             168.0                 6.2  \n",
       "1            NaN             155.0                10.0  \n",
       "2            NaN               NaN                 5.8  \n",
       "3            NaN             291.0                11.3  \n",
       "4            NaN               NaN                 5.0  "
      ]
     },
     "execution_count": 3,
     "metadata": {},
     "output_type": "execute_result"
    }
   ],
   "source": [
    "historical_weather.head()"
   ]
  },
  {
   "cell_type": "code",
   "execution_count": 4,
   "id": "5a9cc41a",
   "metadata": {},
   "outputs": [
    {
     "data": {
      "text/html": [
       "<div>\n",
       "<style scoped>\n",
       "    .dataframe tbody tr th:only-of-type {\n",
       "        vertical-align: middle;\n",
       "    }\n",
       "\n",
       "    .dataframe tbody tr th {\n",
       "        vertical-align: top;\n",
       "    }\n",
       "\n",
       "    .dataframe thead th {\n",
       "        text-align: right;\n",
       "    }\n",
       "</style>\n",
       "<table border=\"1\" class=\"dataframe\">\n",
       "  <thead>\n",
       "    <tr style=\"text-align: right;\">\n",
       "      <th></th>\n",
       "      <th>submission_ID</th>\n",
       "      <th>city_id</th>\n",
       "      <th>date</th>\n",
       "    </tr>\n",
       "  </thead>\n",
       "  <tbody>\n",
       "    <tr>\n",
       "      <th>0</th>\n",
       "      <td>1</td>\n",
       "      <td>C001</td>\n",
       "      <td>1/1/2019</td>\n",
       "    </tr>\n",
       "    <tr>\n",
       "      <th>1</th>\n",
       "      <td>2</td>\n",
       "      <td>C001</td>\n",
       "      <td>1/2/2019</td>\n",
       "    </tr>\n",
       "    <tr>\n",
       "      <th>2</th>\n",
       "      <td>3</td>\n",
       "      <td>C001</td>\n",
       "      <td>1/3/2019</td>\n",
       "    </tr>\n",
       "    <tr>\n",
       "      <th>3</th>\n",
       "      <td>4</td>\n",
       "      <td>C001</td>\n",
       "      <td>1/4/2019</td>\n",
       "    </tr>\n",
       "    <tr>\n",
       "      <th>4</th>\n",
       "      <td>5</td>\n",
       "      <td>C001</td>\n",
       "      <td>1/5/2019</td>\n",
       "    </tr>\n",
       "  </tbody>\n",
       "</table>\n",
       "</div>"
      ],
      "text/plain": [
       "   submission_ID city_id      date\n",
       "0              1    C001  1/1/2019\n",
       "1              2    C001  1/2/2019\n",
       "2              3    C001  1/3/2019\n",
       "3              4    C001  1/4/2019\n",
       "4              5    C001  1/5/2019"
      ]
     },
     "execution_count": 4,
     "metadata": {},
     "output_type": "execute_result"
    }
   ],
   "source": [
    "submission_key.head()"
   ]
  },
  {
   "cell_type": "code",
   "execution_count": 5,
   "id": "1be311c5",
   "metadata": {},
   "outputs": [
    {
     "data": {
      "text/plain": [
       "city_id                    0\n",
       "date                       0\n",
       "avg_temp_c              1224\n",
       "min_temp_c              5886\n",
       "max_temp_c              7493\n",
       "precipitation_mm       69744\n",
       "snow_depth_mm         170100\n",
       "avg_wind_dir_deg       35394\n",
       "avg_wind_speed_kmh     22472\n",
       "dtype: int64"
      ]
     },
     "execution_count": 5,
     "metadata": {},
     "output_type": "execute_result"
    }
   ],
   "source": [
    "historical_weather.isnull().sum()"
   ]
  },
  {
   "cell_type": "code",
   "execution_count": 6,
   "id": "8be75bab",
   "metadata": {},
   "outputs": [],
   "source": [
    "historical_weather.fillna(historical_weather.mean(), inplace=True)"
   ]
  },
  {
   "cell_type": "code",
   "execution_count": 7,
   "id": "aa955b72",
   "metadata": {},
   "outputs": [
    {
     "data": {
      "text/plain": [
       "city_id               0\n",
       "date                  0\n",
       "avg_temp_c            0\n",
       "min_temp_c            0\n",
       "max_temp_c            0\n",
       "precipitation_mm      0\n",
       "snow_depth_mm         0\n",
       "avg_wind_dir_deg      0\n",
       "avg_wind_speed_kmh    0\n",
       "dtype: int64"
      ]
     },
     "execution_count": 7,
     "metadata": {},
     "output_type": "execute_result"
    }
   ],
   "source": [
    "historical_weather.isnull().sum()"
   ]
  },
  {
   "cell_type": "code",
   "execution_count": 8,
   "id": "1c6d59c8",
   "metadata": {},
   "outputs": [
    {
     "data": {
      "text/html": [
       "<div>\n",
       "<style scoped>\n",
       "    .dataframe tbody tr th:only-of-type {\n",
       "        vertical-align: middle;\n",
       "    }\n",
       "\n",
       "    .dataframe tbody tr th {\n",
       "        vertical-align: top;\n",
       "    }\n",
       "\n",
       "    .dataframe thead th {\n",
       "        text-align: right;\n",
       "    }\n",
       "</style>\n",
       "<table border=\"1\" class=\"dataframe\">\n",
       "  <thead>\n",
       "    <tr style=\"text-align: right;\">\n",
       "      <th></th>\n",
       "      <th>city_id</th>\n",
       "      <th>date</th>\n",
       "      <th>avg_temp_c</th>\n",
       "      <th>min_temp_c</th>\n",
       "      <th>max_temp_c</th>\n",
       "      <th>precipitation_mm</th>\n",
       "      <th>snow_depth_mm</th>\n",
       "      <th>avg_wind_dir_deg</th>\n",
       "      <th>avg_wind_speed_kmh</th>\n",
       "    </tr>\n",
       "  </thead>\n",
       "  <tbody>\n",
       "    <tr>\n",
       "      <th>0</th>\n",
       "      <td>C001</td>\n",
       "      <td>1/1/2014</td>\n",
       "      <td>6.6</td>\n",
       "      <td>-1.4</td>\n",
       "      <td>11.6</td>\n",
       "      <td>3.679964</td>\n",
       "      <td>342.481696</td>\n",
       "      <td>168.000000</td>\n",
       "      <td>6.2</td>\n",
       "    </tr>\n",
       "    <tr>\n",
       "      <th>1</th>\n",
       "      <td>C001</td>\n",
       "      <td>1/2/2014</td>\n",
       "      <td>9.3</td>\n",
       "      <td>6.3</td>\n",
       "      <td>13.3</td>\n",
       "      <td>3.679964</td>\n",
       "      <td>342.481696</td>\n",
       "      <td>155.000000</td>\n",
       "      <td>10.0</td>\n",
       "    </tr>\n",
       "    <tr>\n",
       "      <th>2</th>\n",
       "      <td>C001</td>\n",
       "      <td>1/3/2014</td>\n",
       "      <td>7.6</td>\n",
       "      <td>1.9</td>\n",
       "      <td>14.0</td>\n",
       "      <td>3.679964</td>\n",
       "      <td>342.481696</td>\n",
       "      <td>175.650289</td>\n",
       "      <td>5.8</td>\n",
       "    </tr>\n",
       "    <tr>\n",
       "      <th>3</th>\n",
       "      <td>C001</td>\n",
       "      <td>1/4/2014</td>\n",
       "      <td>7.6</td>\n",
       "      <td>3.9</td>\n",
       "      <td>13.3</td>\n",
       "      <td>3.679964</td>\n",
       "      <td>342.481696</td>\n",
       "      <td>291.000000</td>\n",
       "      <td>11.3</td>\n",
       "    </tr>\n",
       "    <tr>\n",
       "      <th>4</th>\n",
       "      <td>C001</td>\n",
       "      <td>1/5/2014</td>\n",
       "      <td>8.6</td>\n",
       "      <td>0.5</td>\n",
       "      <td>16.9</td>\n",
       "      <td>3.679964</td>\n",
       "      <td>342.481696</td>\n",
       "      <td>175.650289</td>\n",
       "      <td>5.0</td>\n",
       "    </tr>\n",
       "  </tbody>\n",
       "</table>\n",
       "</div>"
      ],
      "text/plain": [
       "  city_id      date  avg_temp_c  min_temp_c  max_temp_c  precipitation_mm  \\\n",
       "0    C001  1/1/2014         6.6        -1.4        11.6          3.679964   \n",
       "1    C001  1/2/2014         9.3         6.3        13.3          3.679964   \n",
       "2    C001  1/3/2014         7.6         1.9        14.0          3.679964   \n",
       "3    C001  1/4/2014         7.6         3.9        13.3          3.679964   \n",
       "4    C001  1/5/2014         8.6         0.5        16.9          3.679964   \n",
       "\n",
       "   snow_depth_mm  avg_wind_dir_deg  avg_wind_speed_kmh  \n",
       "0     342.481696        168.000000                 6.2  \n",
       "1     342.481696        155.000000                10.0  \n",
       "2     342.481696        175.650289                 5.8  \n",
       "3     342.481696        291.000000                11.3  \n",
       "4     342.481696        175.650289                 5.0  "
      ]
     },
     "execution_count": 8,
     "metadata": {},
     "output_type": "execute_result"
    }
   ],
   "source": [
    "historical_weather.head()"
   ]
  },
  {
   "cell_type": "code",
   "execution_count": 9,
   "id": "e7166f41",
   "metadata": {},
   "outputs": [],
   "source": [
    "# Create new features\n",
    "historical_weather['year'] = pd.DatetimeIndex(historical_weather['date']).year\n",
    "historical_weather['month'] = pd.DatetimeIndex(historical_weather['date']).month\n",
    "historical_weather['day'] = pd.DatetimeIndex(historical_weather['date']).day\n",
    "\n",
    "# Lag features: Shift the avg_temp_c column by 7 days to get last week's average temperature\n",
    "historical_weather['avg_temp_lag_7'] = historical_weather['avg_temp_c'].shift(7)\n",
    "\n",
    "# Rolling averages: Rolling average of the last 7 days\n",
    "historical_weather['avg_temp_roll_7'] = historical_weather['avg_temp_c'].rolling(window=7).mean()\n",
    "\n",
    "# Fill any new NaN values that were created by shifting/rolling\n",
    "historical_weather.fillna(historical_weather.mean(), inplace=True)\n"
   ]
  },
  {
   "cell_type": "code",
   "execution_count": 10,
   "id": "da411d05",
   "metadata": {},
   "outputs": [],
   "source": [
    "# Convert 'city_id' to categorical and then to numeric\n",
    "historical_weather['city_id'] = historical_weather['city_id'].astype('category')\n",
    "historical_weather['city_id'] = historical_weather['city_id'].cat.codes\n"
   ]
  },
  {
   "cell_type": "code",
   "execution_count": 11,
   "id": "6c1b08de",
   "metadata": {},
   "outputs": [
    {
     "name": "stdout",
     "output_type": "stream",
     "text": [
      "Root Mean Squared Error: 0.9007022509982692\n"
     ]
    }
   ],
   "source": [
    "# Import necessary libraries for modeling\n",
    "from sklearn.model_selection import train_test_split\n",
    "from sklearn.ensemble import RandomForestRegressor\n",
    "\n",
    "# Define the target variable and features\n",
    "X = historical_weather.drop(columns=['avg_temp_c', 'date'])\n",
    "y = historical_weather['avg_temp_c']\n",
    "\n",
    "# Split the data into training and testing sets\n",
    "X_train, X_test, y_train, y_test = train_test_split(X, y, test_size=0.2, random_state=42)\n",
    "\n",
    "# Initialize and train the model\n",
    "model = RandomForestRegressor()\n",
    "model.fit(X_train, y_train)\n",
    "\n",
    "# Evaluate the model (optional)\n",
    "from sklearn.metrics import mean_squared_error\n",
    "\n",
    "y_pred = model.predict(X_test)\n",
    "rmse = np.sqrt(mean_squared_error(y_test, y_pred))\n",
    "print(f'Root Mean Squared Error: {rmse}')\n"
   ]
  },
  {
   "cell_type": "code",
   "execution_count": 12,
   "id": "65eac7da",
   "metadata": {},
   "outputs": [
    {
     "name": "stdout",
     "output_type": "stream",
     "text": [
      "Linear Regression RMSE: 1.5201360259633752\n"
     ]
    }
   ],
   "source": [
    "from sklearn.linear_model import LinearRegression\n",
    "\n",
    "# Create a Linear Regression model\n",
    "linear_model = LinearRegression()\n",
    "linear_model.fit(X_train, y_train)\n",
    "\n",
    "# Evaluate the model\n",
    "y_pred_linear = linear_model.predict(X_test)\n",
    "rmse_linear = np.sqrt(mean_squared_error(y_test, y_pred_linear))\n",
    "print(f'Linear Regression RMSE: {rmse_linear}')\n"
   ]
  },
  {
   "cell_type": "code",
   "execution_count": null,
   "id": "8b5f715c",
   "metadata": {},
   "outputs": [],
   "source": [
    "from sklearn.svm import SVR\n",
    "\n",
    "# Create an SVM model with a linear kernel\n",
    "svm_model = SVR(kernel='linear')\n",
    "svm_model.fit(X_train, y_train)\n",
    "\n",
    "# Evaluate the model\n",
    "y_pred_svm = svm_model.predict(X_test)\n",
    "rmse_svm = np.sqrt(mean_squared_error(y_test, y_pred_svm))\n",
    "print(f'SVM (Linear Kernel) RMSE: {rmse_svm}')"
   ]
  }
 ],
 "metadata": {
  "kernelspec": {
   "display_name": "Python 3",
   "language": "python",
   "name": "python3"
  },
  "language_info": {
   "codemirror_mode": {
    "name": "ipython",
    "version": 3
   },
   "file_extension": ".py",
   "mimetype": "text/x-python",
   "name": "python",
   "nbconvert_exporter": "python",
   "pygments_lexer": "ipython3",
   "version": "3.8.8"
  }
 },
 "nbformat": 4,
 "nbformat_minor": 5
}
